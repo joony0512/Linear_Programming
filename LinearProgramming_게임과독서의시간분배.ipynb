{
  "nbformat": 4,
  "nbformat_minor": 0,
  "metadata": {
    "colab": {
      "provenance": [],
      "authorship_tag": "ABX9TyPxtAefr9bCcHNzrxGtpucm",
      "include_colab_link": true
    },
    "kernelspec": {
      "name": "python3",
      "display_name": "Python 3"
    },
    "language_info": {
      "name": "python"
    }
  },
  "cells": [
    {
      "cell_type": "markdown",
      "metadata": {
        "id": "view-in-github",
        "colab_type": "text"
      },
      "source": [
        "<a href=\"https://colab.research.google.com/github/joony0512/Linear_Programming/blob/main/LinearProgramming_%EA%B2%8C%EC%9E%84%EA%B3%BC%EB%8F%85%EC%84%9C%EC%9D%98%EC%8B%9C%EA%B0%84%EB%B6%84%EB%B0%B0.ipynb\" target=\"_parent\"><img src=\"https://colab.research.google.com/assets/colab-badge.svg\" alt=\"Open In Colab\"/></a>"
      ]
    },
    {
      "cell_type": "markdown",
      "source": [
        "# 아들 vs 아빠  \n",
        "아들은 오늘 저녁 식사 전까지 4시간동안 독서와 게인을 할 수 있다.  \n",
        "평소 지원이는 아빠와 다음같은 약속을 했다.  \n",
        "1. 게임시간은 독서시간의 2배를 넘지 않는다  \n",
        "2. 독서의 피로는 게임의 4배이다. 게임의 피로를 1로 할때, 게임과 독서의 피로합이 12가 넘지 않는다.  \n",
        "3. 게임의 효용을 1로 할때, 독서의 효용은 게임의 2배이다.  \n",
        "-> 아들의 효용을 최대로 하는 독서시간과 게임시간을 구하라."
      ],
      "metadata": {
        "id": "Z_yJUNDrNG88"
      }
    },
    {
      "cell_type": "code",
      "source": [
        "!pip install pulp\n"
      ],
      "metadata": {
        "colab": {
          "base_uri": "https://localhost:8080/"
        },
        "id": "1wvhIMLBMKza",
        "outputId": "d8e1e77d-2bcb-4db7-9315-68cede9f6831"
      },
      "execution_count": null,
      "outputs": [
        {
          "output_type": "stream",
          "name": "stdout",
          "text": [
            "Looking in indexes: https://pypi.org/simple, https://us-python.pkg.dev/colab-wheels/public/simple/\n",
            "Collecting pulp\n",
            "  Downloading PuLP-2.7.0-py3-none-any.whl (14.3 MB)\n",
            "\u001b[2K     \u001b[90m━━━━━━━━━━━━━━━━━━━━━━━━━━━━━━━━━━━━━━━━\u001b[0m \u001b[32m14.3/14.3 MB\u001b[0m \u001b[31m60.8 MB/s\u001b[0m eta \u001b[36m0:00:00\u001b[0m\n",
            "\u001b[?25hInstalling collected packages: pulp\n",
            "Successfully installed pulp-2.7.0\n"
          ]
        }
      ]
    },
    {
      "cell_type": "code",
      "execution_count": null,
      "metadata": {
        "id": "sAmOd3WwL6T8"
      },
      "outputs": [],
      "source": [
        "from pulp import *"
      ]
    },
    {
      "cell_type": "code",
      "source": [
        "model = LpProblem(name = 'SonVsFather', sense = LpMaximize)\n",
        "\n",
        "x1 = LpVariable(name = 'x1', lowBound = 0)\n",
        "x2 = LpVariable(name = 'x2', lowBound = 0)\n",
        "\n",
        "model += x1 + x2 <=4, 'constr_1'\n",
        "model += x1 -2*x2 <=0, 'constr_2'\n",
        "model +=x1 + 4*x2 <= 12, 'constr_3'\n",
        "\n",
        "model += x1 + 2*x2\n"
      ],
      "metadata": {
        "id": "K25w7MUdMGpm"
      },
      "execution_count": null,
      "outputs": []
    },
    {
      "cell_type": "code",
      "source": [
        "print(model)"
      ],
      "metadata": {
        "colab": {
          "base_uri": "https://localhost:8080/"
        },
        "id": "QaGwgQtGM31s",
        "outputId": "6314c711-eccb-4ba8-f840-6afe7134318a"
      },
      "execution_count": null,
      "outputs": [
        {
          "output_type": "stream",
          "name": "stdout",
          "text": [
            "SonVsFather:\n",
            "MAXIMIZE\n",
            "1*x1 + 2*x2 + 0\n",
            "SUBJECT TO\n",
            "constr_1: x1 + x2 <= 4\n",
            "\n",
            "constr_2: x1 - 2 x2 <= 0\n",
            "\n",
            "constr_3: x1 + 4 x2 <= 12\n",
            "\n",
            "VARIABLES\n",
            "x1 Continuous\n",
            "x2 Continuous\n",
            "\n"
          ]
        }
      ]
    },
    {
      "cell_type": "markdown",
      "source": [
        "##for loop 사용"
      ],
      "metadata": {
        "id": "ObxpD2MlNAfy"
      }
    },
    {
      "cell_type": "code",
      "source": [
        "from pulp import *"
      ],
      "metadata": {
        "id": "ZIW8zsAKM40m"
      },
      "execution_count": null,
      "outputs": []
    },
    {
      "cell_type": "code",
      "source": [
        "model = LpProblem(name = 'SonVsFather', sense = LpMaximize) \n",
        "\n",
        "#Define variables\n",
        "num_vars = 2 \n",
        "variables = [LpVariable(name = f'x{i}',lowBound = 0) for i in range(1, num_vars +1)]\n"
      ],
      "metadata": {
        "id": "2Xk5y1GLNQpp"
      },
      "execution_count": null,
      "outputs": []
    },
    {
      "cell_type": "code",
      "source": [
        "#Define constraints\n",
        "num_constraints = 3\n",
        "constraints =[]\n",
        "constraints_coeffs = [(1,1), (1,-2), (1,4)]\n",
        "\n",
        "for i in range(num_constraints):\n",
        "  rhs_values = [4,0,12]\n",
        "  constraint = LpConstraint(\n",
        "      e = LpAffineExpression([(variables[j], constraints_coeffs[i][j]) for j in range(num_vars)]),\n",
        "      sense = LpConstraintLE,\n",
        "      rhs = rhs_values[i],\n",
        "      name = f'constraint_{i+1}'\n",
        "  )\n",
        "  constraints.append(constraint)\n",
        "\n",
        "#Define objective function\n",
        "obj_coefficients = [1,2]\n",
        "objective = LpAffineExpression([(variables[j], obj_coefficients[j]) for j in range(num_vars)])\n",
        "model += objective\n",
        "\n",
        "for constraint in constraints:\n",
        "  model += constraint\n",
        "\n",
        "print(model)\n"
      ],
      "metadata": {
        "colab": {
          "base_uri": "https://localhost:8080/"
        },
        "id": "80SrKmfnOY9H",
        "outputId": "5e067f96-c8d2-4106-d496-fc905f490eea"
      },
      "execution_count": null,
      "outputs": [
        {
          "output_type": "stream",
          "name": "stdout",
          "text": [
            "SonVsFather:\n",
            "MAXIMIZE\n",
            "1*x1 + 2*x2 + 0\n",
            "SUBJECT TO\n",
            "constraint_1: x1 + x2 <= 4\n",
            "\n",
            "constraint_2: x1 - 2 x2 <= 0\n",
            "\n",
            "constraint_3: x1 + 4 x2 <= 12\n",
            "\n",
            "VARIABLES\n",
            "x1 Continuous\n",
            "x2 Continuous\n",
            "\n"
          ]
        }
      ]
    },
    {
      "cell_type": "code",
      "source": [],
      "metadata": {
        "id": "gB_UOeYIRb9d"
      },
      "execution_count": null,
      "outputs": []
    }
  ]
}