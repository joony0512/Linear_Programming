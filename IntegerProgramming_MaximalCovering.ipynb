{
  "nbformat": 4,
  "nbformat_minor": 0,
  "metadata": {
    "colab": {
      "provenance": [],
      "authorship_tag": "ABX9TyOYR4UFl7Fo43ZCjiutBstt",
      "include_colab_link": true
    },
    "kernelspec": {
      "name": "python3",
      "display_name": "Python 3"
    },
    "language_info": {
      "name": "python"
    }
  },
  "cells": [
    {
      "cell_type": "markdown",
      "metadata": {
        "id": "view-in-github",
        "colab_type": "text"
      },
      "source": [
        "<a href=\"https://colab.research.google.com/github/joony0512/Linear_Programming/blob/main/IntegerProgramming_MaximalCovering.ipynb\" target=\"_parent\"><img src=\"https://colab.research.google.com/assets/colab-badge.svg\" alt=\"Open In Colab\"/></a>"
      ]
    },
    {
      "cell_type": "code",
      "execution_count": 1,
      "metadata": {
        "colab": {
          "base_uri": "https://localhost:8080/"
        },
        "id": "MxUnRydwp5es",
        "outputId": "bc2aeb57-4434-4ebb-c737-09868a877c59"
      },
      "outputs": [
        {
          "output_type": "stream",
          "name": "stdout",
          "text": [
            "Looking in indexes: https://pypi.org/simple, https://us-python.pkg.dev/colab-wheels/public/simple/\n",
            "Collecting pulp\n",
            "  Downloading PuLP-2.7.0-py3-none-any.whl (14.3 MB)\n",
            "\u001b[2K     \u001b[90m━━━━━━━━━━━━━━━━━━━━━━━━━━━━━━━━━━━━━━━━\u001b[0m \u001b[32m14.3/14.3 MB\u001b[0m \u001b[31m34.9 MB/s\u001b[0m eta \u001b[36m0:00:00\u001b[0m\n",
            "\u001b[?25hInstalling collected packages: pulp\n",
            "Successfully installed pulp-2.7.0\n"
          ]
        }
      ],
      "source": [
        "!pip install pulp"
      ]
    },
    {
      "cell_type": "code",
      "source": [
        "from pulp import *\n",
        "model = LpProblem(name=\"Maximal covering problem\", sense=LpMaximize)\n",
        "\n",
        "# Define variables\n",
        "num_vars = 6\n",
        "var_x = [LpVariable(name=f\"x{i}\", lowBound=0, cat=\"Binary\") for i in range(1, num_vars + 1)]  # x1 to x6\n",
        "var_y = [LpVariable(name=f\"y{i}\", lowBound=0, cat=\"Binary\") for i in range(1, num_vars + 1)]  # y1 to y6\n",
        "\n",
        "# Define constraints\n",
        "num_constr_1 = 6  # # of constraints\n",
        "constr_1 = []  # create a constraint\n",
        "constr_1_coeffs = [[1, 1, 0, 0, 0, 0], [1, 1, 0, 1, 0, 0], [0, 0, 1, 1, 1, 0], [0, 1, 1, 1, 0, 1], [0, 0, 1, 0, 1, 1],\n",
        "                   [0, 0, 0, 1, 1, 1]]\n",
        "for i in range(num_constr_1):\n",
        "    rhs_values = [0, 0, 0, 0, 0, 0]\n",
        "    constraint = LpConstraint(\n",
        "        e=LpAffineExpression([(var_y[j], constr_1_coeffs[i][j]) for j in range(num_vars)] + [(var_x[i], -1)]),\n",
        "        sense=LpConstraintGE,\n",
        "        rhs=rhs_values[i],\n",
        "        name=f\"constraint_{i + 1}\"\n",
        "    )\n",
        "    constr_1.append(constraint)\n",
        "\n",
        "num_constr_2 = 1  # # of constraints\n",
        "constr_2 = []  # create a constraint\n",
        "constr_2_coeffs = [1, 1, 1, 1, 1, 1]\n",
        "for i in range(num_constr_2):\n",
        "    rhs_values = [3]\n",
        "    constraint = LpConstraint(\n",
        "        e=LpAffineExpression([(var_y[j], constr_2_coeffs[j]) for j in range(num_vars)]),\n",
        "        sense=LpConstraintLE,\n",
        "        rhs=rhs_values[i],\n",
        "        name=f\"constraint_{num_constr_1 + i + 1}\"\n",
        "    )\n",
        "    constr_2.append(constraint)\n",
        "\n",
        "# Define objective function\n",
        "obj_coefficients = [1500, 2000, 1700, 2010, 1300, 1000]\n",
        "objective = LpAffineExpression([(var_x[j], obj_coefficients[j]) for j in range(num_vars)])\n",
        "model += objective\n",
        "\n",
        "# Add variables, constraints, and objective function to the model\n",
        "for constraint in constr_1 + constr_2:\n",
        "    model += constraint\n",
        "\n",
        "# Print the LP model\n",
        "print(model)\n",
        "model.writeLP('out.txt')\n",
        "\n",
        "# Solve the model\n",
        "model.solve()\n",
        "\n",
        "# Print the solution\n",
        "for variable in var_x:\n",
        "    print(f\"{variable.name}: {variable.value()}\")\n",
        "\n",
        "for variable in var_y:\n",
        "    print(f\"{variable.name}: {variable.value()}\")\n",
        "\n",
        "print(f\"Optimal objective value: {model.objective.value()}\")"
      ],
      "metadata": {
        "colab": {
          "base_uri": "https://localhost:8080/"
        },
        "id": "rQWUOYuGp7Tz",
        "outputId": "6ec65d92-36db-4efb-e658-3c477ba7120d"
      },
      "execution_count": 2,
      "outputs": [
        {
          "output_type": "stream",
          "name": "stdout",
          "text": [
            "Maximal_covering_problem:\n",
            "MAXIMIZE\n",
            "1500*x1 + 2000*x2 + 1700*x3 + 2010*x4 + 1300*x5 + 1000*x6 + 0\n",
            "SUBJECT TO\n",
            "constraint_1: - x1 + y1 + y2 + 0 y3 + 0 y4 + 0 y5 + 0 y6 >= 0\n",
            "\n",
            "constraint_2: - x2 + y1 + y2 + 0 y3 + y4 + 0 y5 + 0 y6 >= 0\n",
            "\n",
            "constraint_3: - x3 + 0 y1 + 0 y2 + y3 + y4 + y5 + 0 y6 >= 0\n",
            "\n",
            "constraint_4: - x4 + 0 y1 + y2 + y3 + y4 + 0 y5 + y6 >= 0\n",
            "\n",
            "constraint_5: - x5 + 0 y1 + 0 y2 + y3 + 0 y4 + y5 + y6 >= 0\n",
            "\n",
            "constraint_6: - x6 + 0 y1 + 0 y2 + 0 y3 + y4 + y5 + y6 >= 0\n",
            "\n",
            "constraint_7: y1 + y2 + y3 + y4 + y5 + y6 <= 3\n",
            "\n",
            "VARIABLES\n",
            "0 <= x1 <= 1 Integer\n",
            "0 <= x2 <= 1 Integer\n",
            "0 <= x3 <= 1 Integer\n",
            "0 <= x4 <= 1 Integer\n",
            "0 <= x5 <= 1 Integer\n",
            "0 <= x6 <= 1 Integer\n",
            "0 <= y1 <= 1 Integer\n",
            "0 <= y2 <= 1 Integer\n",
            "0 <= y3 <= 1 Integer\n",
            "0 <= y4 <= 1 Integer\n",
            "0 <= y5 <= 1 Integer\n",
            "0 <= y6 <= 1 Integer\n",
            "\n",
            "x1: 1.0\n",
            "x2: 1.0\n",
            "x3: 1.0\n",
            "x4: 1.0\n",
            "x5: 1.0\n",
            "x6: 1.0\n",
            "y1: 1.0\n",
            "y2: 0.0\n",
            "y3: 1.0\n",
            "y4: 1.0\n",
            "y5: 0.0\n",
            "y6: 0.0\n",
            "Optimal objective value: 9510.0\n"
          ]
        },
        {
          "output_type": "stream",
          "name": "stderr",
          "text": [
            "/usr/local/lib/python3.9/dist-packages/pulp/pulp.py:1352: UserWarning: Spaces are not permitted in the name. Converted to '_'\n",
            "  warnings.warn(\"Spaces are not permitted in the name. Converted to '_'\")\n"
          ]
        }
      ]
    },
    {
      "cell_type": "code",
      "source": [],
      "metadata": {
        "id": "Tv58Ik0Op7o6"
      },
      "execution_count": null,
      "outputs": []
    }
  ]
}