{
  "nbformat": 4,
  "nbformat_minor": 0,
  "metadata": {
    "colab": {
      "provenance": [],
      "authorship_tag": "ABX9TyNe+ASPFiLlaA2nWZmAppKy",
      "include_colab_link": true
    },
    "kernelspec": {
      "name": "python3",
      "display_name": "Python 3"
    },
    "language_info": {
      "name": "python"
    }
  },
  "cells": [
    {
      "cell_type": "markdown",
      "metadata": {
        "id": "view-in-github",
        "colab_type": "text"
      },
      "source": [
        "<a href=\"https://colab.research.google.com/github/joony0512/Linear_Programming/blob/main/IntegerProgramming_transfer.ipynb\" target=\"_parent\"><img src=\"https://colab.research.google.com/assets/colab-badge.svg\" alt=\"Open In Colab\"/></a>"
      ]
    },
    {
      "cell_type": "code",
      "execution_count": 1,
      "metadata": {
        "colab": {
          "base_uri": "https://localhost:8080/"
        },
        "id": "AcgTOTMhUqfD",
        "outputId": "09621c4b-fe20-4a05-9578-ac4499cfeb63"
      },
      "outputs": [
        {
          "output_type": "stream",
          "name": "stdout",
          "text": [
            "Looking in indexes: https://pypi.org/simple, https://us-python.pkg.dev/colab-wheels/public/simple/\n",
            "Requirement already satisfied: pulp in /usr/local/lib/python3.9/dist-packages (2.7.0)\n"
          ]
        }
      ],
      "source": [
        "!pip install pulp\n"
      ]
    },
    {
      "cell_type": "code",
      "source": [
        "from pulp import *\n",
        "model = LpProblem(name ='transfer', sense =LpMinimize)\n",
        "num_rows =2\n",
        "num_columns =3\n",
        "variables =[LpVariable(name =f'x{i}{j}', lowBound =0, cat ='Integer') for i in range(1, num_rows+1) for j in range(1,num_columns+1)]\n",
        "print(variables)"
      ],
      "metadata": {
        "colab": {
          "base_uri": "https://localhost:8080/"
        },
        "id": "dvgCsC2zUt7d",
        "outputId": "8f7e5d48-bc31-4dde-d5d1-bef97b05624f"
      },
      "execution_count": 2,
      "outputs": [
        {
          "output_type": "stream",
          "name": "stdout",
          "text": [
            "[x11, x12, x13, x21, x22, x23]\n"
          ]
        }
      ]
    },
    {
      "cell_type": "code",
      "source": [
        "constraints =[]\n",
        "constr_coeff =[1,1,1,1,1,1]\n",
        "constraints_num =2\n",
        "\n",
        "j_list =[[0,1,2],[3,4,5]]\n",
        "for i in range(constraints_num):\n",
        "  rhs_values =[600,200]\n",
        "  constr_sup = LpConstraint(\n",
        "      e = LpAffineExpression([(variables[j], constr_coeff[j]) for j in j_list[i]]),\n",
        "      sense =LpConstraintLE,\n",
        "      rhs =rhs_values[i],\n",
        "      name=f'constraint_sup{i+1}'\n",
        "  )\n",
        "  constraints.append(constr_sup)\n"
      ],
      "metadata": {
        "id": "FfSyAYivbByP"
      },
      "execution_count": 3,
      "outputs": []
    },
    {
      "cell_type": "code",
      "source": [
        "constr_coeff2 = [1,1,1,1,1,1]\n",
        "constraints_num2 =3\n",
        "\n",
        "j_list2 =[[0,3],[1,4],[2,5]]\n",
        "for i in range(constraints_num2):\n",
        "  rhs_values2 =[300,200,300]\n",
        "  constr_sup2 =LpConstraint(\n",
        "      e = LpAffineExpression([(variables[j], constr_coeff2[j]) for j in j_list2[i]]),\n",
        "      sense =LpConstraintGE,\n",
        "      rhs =rhs_values2[i],\n",
        "      name =f'constraint_sup{i+3}'\n",
        "  )\n",
        "  constraints.append(constr_sup2)"
      ],
      "metadata": {
        "id": "UL9vWjsJWN3H"
      },
      "execution_count": 4,
      "outputs": []
    },
    {
      "cell_type": "code",
      "source": [
        "print(constraints)"
      ],
      "metadata": {
        "colab": {
          "base_uri": "https://localhost:8080/"
        },
        "id": "D94br3PkdlBZ",
        "outputId": "5b2c9f5e-87e6-407d-b245-136e0f9b9e2b"
      },
      "execution_count": 5,
      "outputs": [
        {
          "output_type": "stream",
          "name": "stdout",
          "text": [
            "[1*x11 + 1*x12 + 1*x13 + -600 <= 0, 1*x21 + 1*x22 + 1*x23 + -200 <= 0, 1*x11 + 1*x21 + -300 >= 0, 1*x12 + 1*x22 + -200 >= 0, 1*x13 + 1*x23 + -300 >= 0]\n"
          ]
        }
      ]
    },
    {
      "cell_type": "code",
      "source": [
        "obj_coeff = [16,10,14,12,12,20]\n",
        "obj =LpAffineExpression([(variables[i], obj_coeff[i]) for i in range(num_rows*num_columns)])\n",
        "model += obj"
      ],
      "metadata": {
        "id": "ocujUPsRdo8v"
      },
      "execution_count": 7,
      "outputs": []
    },
    {
      "cell_type": "code",
      "source": [
        "for constraint in constraints:\n",
        "  model += constraint\n",
        "print(model)"
      ],
      "metadata": {
        "colab": {
          "base_uri": "https://localhost:8080/"
        },
        "id": "liVb1zoOfCw_",
        "outputId": "43fe9fb4-2763-4c76-8add-5249a5724c6c"
      },
      "execution_count": 8,
      "outputs": [
        {
          "output_type": "stream",
          "name": "stdout",
          "text": [
            "transfer:\n",
            "MINIMIZE\n",
            "16*x11 + 10*x12 + 14*x13 + 12*x21 + 12*x22 + 20*x23 + 0\n",
            "SUBJECT TO\n",
            "constraint_sup1: x11 + x12 + x13 <= 600\n",
            "\n",
            "constraint_sup2: x21 + x22 + x23 <= 200\n",
            "\n",
            "constraint_sup3: x11 + x21 >= 300\n",
            "\n",
            "constraint_sup4: x12 + x22 >= 200\n",
            "\n",
            "constraint_sup5: x13 + x23 >= 300\n",
            "\n",
            "VARIABLES\n",
            "0 <= x11 Integer\n",
            "0 <= x12 Integer\n",
            "0 <= x13 Integer\n",
            "0 <= x21 Integer\n",
            "0 <= x22 Integer\n",
            "0 <= x23 Integer\n",
            "\n"
          ]
        }
      ]
    },
    {
      "cell_type": "code",
      "source": [
        "model.writeLP('out.txt')\n",
        "model.solve()\n",
        "\n",
        "for variable in variables:\n",
        "  print(f'{variable.name} : {variable.value()}')"
      ],
      "metadata": {
        "colab": {
          "base_uri": "https://localhost:8080/"
        },
        "id": "9CxtnBGefExm",
        "outputId": "e00c0b3a-e6fe-4b31-b7dd-ccf64fb70eec"
      },
      "execution_count": 10,
      "outputs": [
        {
          "output_type": "stream",
          "name": "stdout",
          "text": [
            "x11 : 100.0\n",
            "x12 : 200.0\n",
            "x13 : 300.0\n",
            "x21 : 200.0\n",
            "x22 : 0.0\n",
            "x23 : 0.0\n"
          ]
        }
      ]
    },
    {
      "cell_type": "code",
      "source": [
        "print(model.objective.value())"
      ],
      "metadata": {
        "colab": {
          "base_uri": "https://localhost:8080/"
        },
        "id": "gSz-e1ZbfJgN",
        "outputId": "724a99ab-90d4-47aa-caa8-21eadada6cce"
      },
      "execution_count": 11,
      "outputs": [
        {
          "output_type": "stream",
          "name": "stdout",
          "text": [
            "10200.0\n"
          ]
        }
      ]
    },
    {
      "cell_type": "code",
      "source": [],
      "metadata": {
        "id": "i-u6tOFdfTBf"
      },
      "execution_count": null,
      "outputs": []
    }
  ]
}