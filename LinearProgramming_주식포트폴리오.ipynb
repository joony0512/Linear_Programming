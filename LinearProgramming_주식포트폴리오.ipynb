{
  "nbformat": 4,
  "nbformat_minor": 0,
  "metadata": {
    "colab": {
      "provenance": [],
      "authorship_tag": "ABX9TyNS0tbOSUrDVY4KnKhg7w2s",
      "include_colab_link": true
    },
    "kernelspec": {
      "name": "python3",
      "display_name": "Python 3"
    },
    "language_info": {
      "name": "python"
    }
  },
  "cells": [
    {
      "cell_type": "markdown",
      "metadata": {
        "id": "view-in-github",
        "colab_type": "text"
      },
      "source": [
        "<a href=\"https://colab.research.google.com/github/joony0512/Linear_Programming/blob/main/LinearProgramming_%EC%A3%BC%EC%8B%9D%ED%8F%AC%ED%8A%B8%ED%8F%B4%EB%A6%AC%EC%98%A4.ipynb\" target=\"_parent\"><img src=\"https://colab.research.google.com/assets/colab-badge.svg\" alt=\"Open In Colab\"/></a>"
      ]
    },
    {
      "cell_type": "code",
      "execution_count": 1,
      "metadata": {
        "colab": {
          "base_uri": "https://localhost:8080/"
        },
        "id": "IpK38Pv4Xdih",
        "outputId": "0e34ef2c-b98d-4bf1-f77f-2f1f659f4671"
      },
      "outputs": [
        {
          "output_type": "stream",
          "name": "stdout",
          "text": [
            "Looking in indexes: https://pypi.org/simple, https://us-python.pkg.dev/colab-wheels/public/simple/\n",
            "Requirement already satisfied: pulp in /usr/local/lib/python3.9/dist-packages (2.7.0)\n"
          ]
        }
      ],
      "source": [
        "!pip install pulp"
      ]
    },
    {
      "cell_type": "code",
      "source": [
        "from pulp import *\n",
        "model = LpProblem(name ='foltpolio', sense =LpMaximize)"
      ],
      "metadata": {
        "id": "EfKCdUqMXk_z"
      },
      "execution_count": 2,
      "outputs": []
    },
    {
      "cell_type": "code",
      "source": [
        "num_variables =5\n",
        "variables = [LpVariable(name=f'x{i}', lowBound =0) for i in range(1, num_variables+1)]\n",
        "\n",
        "constraints =[]\n",
        "constr_coeff =[[1,1,1,1,1],[0,0,0,0,1], [0,0,0,1,0],[-2,-1,-1,0,0],[0,0,1,1,-1]]\n",
        "constraints_num =5\n",
        "\n",
        "j_list = [[0,1,2,3,4],[4],[3],[0,1,2],[2,3,4]]\n",
        "for i in range(constraints_num):\n",
        "  rhs_values =[200, 200*0.3, 200*0.1, 0, 0 ]\n",
        "  constr_sup =LpConstraint(\n",
        "      e = LpAffineExpression([(variables[j], constr_coeff[i][j]) for j in j_list[i] ]),\n",
        "      sense =LpConstraintLE,\n",
        "      rhs =rhs_values[i],\n",
        "      name =f'constraint_sup{i+1}'\n",
        "  )\n",
        "  constraints.append(constr_sup)\n"
      ],
      "metadata": {
        "id": "CS1tX4j8YNZr"
      },
      "execution_count": 3,
      "outputs": []
    },
    {
      "cell_type": "code",
      "source": [
        "print(constraints)"
      ],
      "metadata": {
        "id": "LmUIEt_BZ4aq",
        "colab": {
          "base_uri": "https://localhost:8080/"
        },
        "outputId": "c20eeba2-bccb-49cc-c139-1675b44e39bc"
      },
      "execution_count": 4,
      "outputs": [
        {
          "output_type": "stream",
          "name": "stdout",
          "text": [
            "[1*x1 + 1*x2 + 1*x3 + 1*x4 + 1*x5 + -200 <= 0, 1*x5 + -60.0 <= 0, 1*x4 + -20.0 <= 0, -2*x1 + -1*x2 + -1*x3 + 0 <= 0, 1*x3 + 1*x4 + -1*x5 + 0 <= 0]\n"
          ]
        }
      ]
    },
    {
      "cell_type": "code",
      "source": [
        "obj_coeff =[1,1,1,1,1]\n",
        "obj =LpAffineExpression([(variables[i], obj_coeff[i]) for i in range(num_variables)])\n",
        "model += obj"
      ],
      "metadata": {
        "id": "gdCJ5iiCa_nA"
      },
      "execution_count": 5,
      "outputs": []
    },
    {
      "cell_type": "code",
      "source": [
        "for constraint in constraints:\n",
        "  model += constraint\n",
        "\n",
        "print(model)\n",
        "model.writeLP('out.txt')"
      ],
      "metadata": {
        "colab": {
          "base_uri": "https://localhost:8080/"
        },
        "id": "nWNbs8vxeoeB",
        "outputId": "0b73213b-3cbe-4d3b-f41f-197a669f6582"
      },
      "execution_count": 6,
      "outputs": [
        {
          "output_type": "stream",
          "name": "stdout",
          "text": [
            "foltpolio:\n",
            "MAXIMIZE\n",
            "1*x1 + 1*x2 + 1*x3 + 1*x4 + 1*x5 + 0\n",
            "SUBJECT TO\n",
            "constraint_sup1: x1 + x2 + x3 + x4 + x5 <= 200\n",
            "\n",
            "constraint_sup2: x5 <= 60\n",
            "\n",
            "constraint_sup3: x4 <= 20\n",
            "\n",
            "constraint_sup4: - 2 x1 - x2 - x3 <= 0\n",
            "\n",
            "constraint_sup5: x3 + x4 - x5 <= 0\n",
            "\n",
            "VARIABLES\n",
            "x1 Continuous\n",
            "x2 Continuous\n",
            "x3 Continuous\n",
            "x4 Continuous\n",
            "x5 Continuous\n",
            "\n"
          ]
        },
        {
          "output_type": "execute_result",
          "data": {
            "text/plain": [
              "[x1, x2, x3, x4, x5]"
            ]
          },
          "metadata": {},
          "execution_count": 6
        }
      ]
    },
    {
      "cell_type": "code",
      "source": [
        "model.solve()\n",
        "\n",
        "for variable in variables:\n",
        "  print(f'{variable.name} : {variable.value()}')\n",
        "\n",
        "print(f'Optimal object value: {model.objective.value()}')"
      ],
      "metadata": {
        "colab": {
          "base_uri": "https://localhost:8080/"
        },
        "id": "Pw5OJvl0eyyZ",
        "outputId": "22406991-81fe-4363-f1fa-504f8942818f"
      },
      "execution_count": 9,
      "outputs": [
        {
          "output_type": "stream",
          "name": "stdout",
          "text": [
            "x1 : 80.0\n",
            "x2 : 0.0\n",
            "x3 : 60.0\n",
            "x4 : 0.0\n",
            "x5 : 60.0\n",
            "Optimal object value: 200.0\n"
          ]
        }
      ]
    },
    {
      "cell_type": "code",
      "source": [],
      "metadata": {
        "id": "X_TGcro3fVo3"
      },
      "execution_count": null,
      "outputs": []
    }
  ]
}