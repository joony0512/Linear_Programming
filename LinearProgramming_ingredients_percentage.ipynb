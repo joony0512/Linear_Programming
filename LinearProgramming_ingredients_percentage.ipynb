{
  "nbformat": 4,
  "nbformat_minor": 0,
  "metadata": {
    "colab": {
      "provenance": [],
      "authorship_tag": "ABX9TyMAu0jgZrUHwSc2ctg62Qc2",
      "include_colab_link": true
    },
    "kernelspec": {
      "name": "python3",
      "display_name": "Python 3"
    },
    "language_info": {
      "name": "python"
    }
  },
  "cells": [
    {
      "cell_type": "markdown",
      "metadata": {
        "id": "view-in-github",
        "colab_type": "text"
      },
      "source": [
        "<a href=\"https://colab.research.google.com/github/joony0512/Linear_Programming/blob/main/LinearProgramming_ingredients_percentage.ipynb\" target=\"_parent\"><img src=\"https://colab.research.google.com/assets/colab-badge.svg\" alt=\"Open In Colab\"/></a>"
      ]
    },
    {
      "cell_type": "code",
      "execution_count": 1,
      "metadata": {
        "colab": {
          "base_uri": "https://localhost:8080/"
        },
        "id": "4lokqeJcpA2L",
        "outputId": "fdff20cc-ca5e-4bd8-ccc9-e32ec110013b"
      },
      "outputs": [
        {
          "output_type": "stream",
          "name": "stdout",
          "text": [
            "Looking in indexes: https://pypi.org/simple, https://us-python.pkg.dev/colab-wheels/public/simple/\n",
            "Requirement already satisfied: pulp in /usr/local/lib/python3.9/dist-packages (2.7.0)\n"
          ]
        }
      ],
      "source": [
        "!pip install pulp"
      ]
    },
    {
      "cell_type": "code",
      "source": [
        "from pulp import *\n"
      ],
      "metadata": {
        "id": "qcvQK1ihpFER"
      },
      "execution_count": 2,
      "outputs": []
    },
    {
      "cell_type": "markdown",
      "source": [
        "## Model define"
      ],
      "metadata": {
        "id": "QYGTSar5pOEA"
      }
    },
    {
      "cell_type": "code",
      "source": [
        "model =LpProblem(name ='Makingfood', sense =LpMinimize)\n",
        "\n",
        "num_variables =3\n",
        "variables =[LpVariable(name=f'x{i}', lowBound=0) for i in range(1,num_variables+1)]"
      ],
      "metadata": {
        "id": "kO_KtnKWpNil"
      },
      "execution_count": 3,
      "outputs": []
    },
    {
      "cell_type": "markdown",
      "source": [
        "## Constraints"
      ],
      "metadata": {
        "id": "3O-rGz3fs55f"
      }
    },
    {
      "cell_type": "code",
      "source": [
        "constraints=[]\n",
        "constr_coeff =[[0.9, -0.1,-0.1], [-0.2, 0.8, -0.2], [0.4, 0.4, -0.6]]\n",
        "constraints_num =3\n",
        "\n",
        "for i in range(constraints_num):\n",
        "  rhs_values =[0,0,0]\n",
        "  constr_sup =LpConstraint(\n",
        "      e =LpAffineExpression([(variables[j], constr_coeff[i][j]) for j in range(num_variables)]),\n",
        "      sense =LpConstraintGE,\n",
        "      rhs =rhs_values[i],\n",
        "      name =f'constraint_sup{i+1}'\n",
        "  )\n",
        "  constraints.append(constr_sup)\n",
        "\n",
        "constr_coeff2 =[1,1,1]\n",
        "constraints2_num =1\n",
        "\n",
        "for i in range(constraints2_num):\n",
        "  rhs_values2=[100]\n",
        "  constr_sup2 = LpConstraint(\n",
        "      e = LpAffineExpression([(variables[j], constr_coeff2[i] ) for j in range(num_variables)]),\n",
        "      sense =LpConstraintEQ,\n",
        "      rhs =rhs_values2[i],\n",
        "      name =f'constraint_sup{i+4}'\n",
        "  )\n",
        "  constraints.append(constr_sup2)"
      ],
      "metadata": {
        "id": "FGcT-NdYs8AJ"
      },
      "execution_count": 4,
      "outputs": []
    },
    {
      "cell_type": "markdown",
      "source": [],
      "metadata": {
        "id": "C1G1Ys9fxnPw"
      }
    },
    {
      "cell_type": "markdown",
      "source": [
        "## Define Object\n",
        "### add object to model"
      ],
      "metadata": {
        "id": "V1pLX3Bfukk8"
      }
    },
    {
      "cell_type": "code",
      "source": [
        "obj_coeff =[4000, 3000, 2000]\n",
        "obj = LpAffineExpression([(variables[i], obj_coeff[i]) for i in range(num_variables)])\n",
        "model += obj"
      ],
      "metadata": {
        "id": "iUZZpEzfurnM"
      },
      "execution_count": 5,
      "outputs": []
    },
    {
      "cell_type": "markdown",
      "source": [
        "## Add variables, constraints"
      ],
      "metadata": {
        "id": "FHxhfTmZvBXe"
      }
    },
    {
      "cell_type": "code",
      "source": [
        "for constraint in constraints:\n",
        "  model += constraint\n",
        "print(model)\n",
        "model.writeLP('out.txt')"
      ],
      "metadata": {
        "colab": {
          "base_uri": "https://localhost:8080/"
        },
        "id": "VNojYHozvFM4",
        "outputId": "e34f91ce-f03f-432d-8b88-13283c98345c"
      },
      "execution_count": 6,
      "outputs": [
        {
          "output_type": "stream",
          "name": "stdout",
          "text": [
            "Makingfood:\n",
            "MINIMIZE\n",
            "4000*x1 + 3000*x2 + 2000*x3 + 0\n",
            "SUBJECT TO\n",
            "constraint_sup1: 0.9 x1 - 0.1 x2 - 0.1 x3 >= 0\n",
            "\n",
            "constraint_sup2: - 0.2 x1 + 0.8 x2 - 0.2 x3 >= 0\n",
            "\n",
            "constraint_sup3: 0.4 x1 + 0.4 x2 - 0.6 x3 >= 0\n",
            "\n",
            "constraint_sup4: x1 + x2 + x3 = 100\n",
            "\n",
            "VARIABLES\n",
            "x1 Continuous\n",
            "x2 Continuous\n",
            "x3 Continuous\n",
            "\n"
          ]
        },
        {
          "output_type": "execute_result",
          "data": {
            "text/plain": [
              "[x1, x2, x3]"
            ]
          },
          "metadata": {},
          "execution_count": 6
        }
      ]
    },
    {
      "cell_type": "code",
      "source": [
        "model.solve()\n",
        "\n",
        "for variable in variables:\n",
        "  print(f'{variable.name} : {variable.value()}')\n",
        "\n",
        "print(f'Optimal object value: {model.objective.value()}')"
      ],
      "metadata": {
        "colab": {
          "base_uri": "https://localhost:8080/"
        },
        "id": "E8RAHsMMvPMN",
        "outputId": "4d2de09c-ad92-4bb6-ff64-09e3d8872883"
      },
      "execution_count": 7,
      "outputs": [
        {
          "output_type": "stream",
          "name": "stdout",
          "text": [
            "x1 : 10.0\n",
            "x2 : 50.0\n",
            "x3 : 40.0\n",
            "Optimal object value: 270000.0\n"
          ]
        }
      ]
    },
    {
      "cell_type": "code",
      "source": [],
      "metadata": {
        "id": "-ztKpunswCt0"
      },
      "execution_count": 7,
      "outputs": []
    }
  ]
}